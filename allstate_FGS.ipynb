{
 "cells": [
  {
   "cell_type": "code",
   "execution_count": 4,
   "metadata": {
    "collapsed": true
   },
   "outputs": [],
   "source": [
    "import requests\n",
    "import json\n",
    "import pandas as pd\n",
    "import tempfile as tf\n",
    "import uuid"
   ]
  },
  {
   "cell_type": "code",
   "execution_count": 2,
   "metadata": {
    "collapsed": true
   },
   "outputs": [],
   "source": [
    "baseurl = 'https://ccd1.vm.bridges.psc.edu/ccd-api'\n",
    "\n",
    "# change the Basic authorization for your username/password (you can use Postman to generate) \n",
    "basicheader = {\n",
    "    'authorization': \"Basic <Postman>\",    # CHANGE ME:  \n",
    "    'accept': \"application/json\"\n",
    "    }\n",
    "\n",
    "# endpoints\n",
    "jwturl = baseurl + '/jwt'\n",
    "dataurl = baseurl + '/data'"
   ]
  },
  {
   "cell_type": "code",
   "execution_count": 5,
   "metadata": {
    "collapsed": false
   },
   "outputs": [
    {
     "ename": "KeyError",
     "evalue": "'userId'",
     "output_type": "error",
     "traceback": [
      "\u001b[0;31m---------------------------------------------------------------------------\u001b[0m",
      "\u001b[0;31mKeyError\u001b[0m                                  Traceback (most recent call last)",
      "\u001b[0;32m<ipython-input-5-5dd7c39deac0>\u001b[0m in \u001b[0;36m<module>\u001b[0;34m()\u001b[0m\n\u001b[1;32m      3\u001b[0m \u001b[0mjwtresults\u001b[0m \u001b[1;33m=\u001b[0m \u001b[0mjson\u001b[0m\u001b[1;33m.\u001b[0m\u001b[0mloads\u001b[0m\u001b[1;33m(\u001b[0m\u001b[0mr\u001b[0m\u001b[1;33m.\u001b[0m\u001b[0mtext\u001b[0m\u001b[1;33m)\u001b[0m\u001b[1;33m\u001b[0m\u001b[0m\n\u001b[1;32m      4\u001b[0m \u001b[1;33m\u001b[0m\u001b[0m\n\u001b[0;32m----> 5\u001b[0;31m \u001b[0muserId\u001b[0m \u001b[1;33m=\u001b[0m \u001b[0mjwtresults\u001b[0m\u001b[1;33m[\u001b[0m\u001b[1;34m'userId'\u001b[0m\u001b[1;33m]\u001b[0m\u001b[1;33m\u001b[0m\u001b[0m\n\u001b[0m\u001b[1;32m      6\u001b[0m \u001b[0mjwt\u001b[0m \u001b[1;33m=\u001b[0m \u001b[0mjwtresults\u001b[0m\u001b[1;33m[\u001b[0m\u001b[1;34m'jwt'\u001b[0m\u001b[1;33m]\u001b[0m\u001b[1;33m\u001b[0m\u001b[0m\n\u001b[1;32m      7\u001b[0m \u001b[1;33m\u001b[0m\u001b[0m\n",
      "\u001b[0;31mKeyError\u001b[0m: 'userId'"
     ]
    }
   ],
   "source": [
    "# get JSON Web token and userId\n",
    "r = requests.get(jwturl, headers=basicheader)\n",
    "jwtresults = json.loads(r.text)\n",
    "\n",
    "userId = jwtresults['userId']\n",
    "jwt = jwtresults['jwt']\n",
    "\n",
    "print (jwtresults)\n",
    "\n",
    "# construct a header with the JSON web token\n",
    "jtoken = \"Bearer \" + jwt\n",
    "bearheader = {\n",
    "    'authorization': jtoken,\n",
    "    'accept': \"application/json\"    \n",
    "    }\n",
    "print (bearheader)"
   ]
  },
  {
   "cell_type": "code",
   "execution_count": 6,
   "metadata": {
    "collapsed": true
   },
   "outputs": [],
   "source": [
    "fo = open('F:/GraduateStudy/2016Fall/DatAna/Assignment/7/train.csv', 'rb')\n",
    "files = {'file': fo }"
   ]
  },
  {
   "cell_type": "code",
   "execution_count": 7,
   "metadata": {
    "collapsed": false
   },
   "outputs": [
    {
     "ename": "NameError",
     "evalue": "name 'userId' is not defined",
     "output_type": "error",
     "traceback": [
      "\u001b[0;31m---------------------------------------------------------------------------\u001b[0m",
      "\u001b[0;31mNameError\u001b[0m                                 Traceback (most recent call last)",
      "\u001b[0;32m<ipython-input-7-d6712637488c>\u001b[0m in \u001b[0;36m<module>\u001b[0;34m()\u001b[0m\n\u001b[1;32m      1\u001b[0m \u001b[1;31m# post the newly saved data file from PIC-SURE query to your user directory in CCD\u001b[0m\u001b[1;33m\u001b[0m\u001b[1;33m\u001b[0m\u001b[0m\n\u001b[0;32m----> 2\u001b[0;31m \u001b[0murl\u001b[0m \u001b[1;33m=\u001b[0m \u001b[0mbaseurl\u001b[0m \u001b[1;33m+\u001b[0m \u001b[1;34m'/'\u001b[0m \u001b[1;33m+\u001b[0m \u001b[0mstr\u001b[0m\u001b[1;33m(\u001b[0m\u001b[0muserId\u001b[0m\u001b[1;33m)\u001b[0m \u001b[1;33m+\u001b[0m \u001b[1;34m'/dataset/upload'\u001b[0m\u001b[1;33m\u001b[0m\u001b[0m\n\u001b[0m\u001b[1;32m      3\u001b[0m \u001b[0mr\u001b[0m \u001b[1;33m=\u001b[0m \u001b[0mrequests\u001b[0m\u001b[1;33m.\u001b[0m\u001b[0mpost\u001b[0m\u001b[1;33m(\u001b[0m\u001b[0murl\u001b[0m\u001b[1;33m,\u001b[0m \u001b[0mheaders\u001b[0m\u001b[1;33m=\u001b[0m\u001b[0mbearheader\u001b[0m\u001b[1;33m,\u001b[0m \u001b[0mfiles\u001b[0m\u001b[1;33m=\u001b[0m\u001b[0mfiles\u001b[0m\u001b[1;33m)\u001b[0m\u001b[1;33m\u001b[0m\u001b[0m\n\u001b[1;32m      4\u001b[0m \u001b[1;32mprint\u001b[0m \u001b[1;33m(\u001b[0m\u001b[0mr\u001b[0m\u001b[1;33m.\u001b[0m\u001b[0mtext\u001b[0m\u001b[1;33m)\u001b[0m\u001b[1;33m\u001b[0m\u001b[0m\n",
      "\u001b[0;31mNameError\u001b[0m: name 'userId' is not defined"
     ]
    }
   ],
   "source": [
    "# post the newly saved data file from PIC-SURE query to your user directory in CCD\n",
    "url = baseurl + '/' + str(userId) + '/dataset/upload'\n",
    "r = requests.post(url, headers=bearheader, files=files)\n",
    "print (r.text)"
   ]
  },
  {
   "cell_type": "code",
   "execution_count": 8,
   "metadata": {
    "collapsed": false
   },
   "outputs": [
    {
     "name": "stdout",
     "output_type": "stream",
     "text": [
      "{\n",
      "    \"status\": 404, \n",
      "    \"timestamp\": 1480268289081, \n",
      "    \"message\": \"HTTP 404 Not Found\", \n",
      "    \"path\": \"/error\", \n",
      "    \"error\": \"Not Found\"\n",
      "}\n"
     ]
    },
    {
     "ename": "KeyError",
     "evalue": "'id'",
     "output_type": "error",
     "traceback": [
      "\u001b[0;31m---------------------------------------------------------------------------\u001b[0m",
      "\u001b[0;31mKeyError\u001b[0m                                  Traceback (most recent call last)",
      "\u001b[0;32m<ipython-input-8-5f88d3e76072>\u001b[0m in \u001b[0;36m<module>\u001b[0;34m()\u001b[0m\n\u001b[1;32m      2\u001b[0m \u001b[1;32mprint\u001b[0m \u001b[1;33m(\u001b[0m\u001b[0mjson\u001b[0m\u001b[1;33m.\u001b[0m\u001b[0mdumps\u001b[0m\u001b[1;33m(\u001b[0m\u001b[0mjson\u001b[0m\u001b[1;33m.\u001b[0m\u001b[0mloads\u001b[0m\u001b[1;33m(\u001b[0m\u001b[0mr\u001b[0m\u001b[1;33m.\u001b[0m\u001b[0mtext\u001b[0m\u001b[1;33m)\u001b[0m\u001b[1;33m,\u001b[0m \u001b[0mindent\u001b[0m\u001b[1;33m=\u001b[0m\u001b[1;36m4\u001b[0m\u001b[1;33m)\u001b[0m\u001b[1;33m)\u001b[0m  \u001b[1;31m# pretty print the results\u001b[0m\u001b[1;33m\u001b[0m\u001b[0m\n\u001b[1;32m      3\u001b[0m \u001b[0mp_resultId\u001b[0m \u001b[1;33m=\u001b[0m \u001b[0mjson\u001b[0m\u001b[1;33m.\u001b[0m\u001b[0mloads\u001b[0m\u001b[1;33m(\u001b[0m\u001b[0mr\u001b[0m\u001b[1;33m.\u001b[0m\u001b[0mtext\u001b[0m\u001b[1;33m)\u001b[0m  \u001b[1;31m#  parse and get the job id\u001b[0m\u001b[1;33m\u001b[0m\u001b[0m\n\u001b[0;32m----> 4\u001b[0;31m \u001b[0mfileId\u001b[0m \u001b[1;33m=\u001b[0m \u001b[0mp_resultId\u001b[0m\u001b[1;33m[\u001b[0m\u001b[1;34m'id'\u001b[0m\u001b[1;33m]\u001b[0m\u001b[1;33m\u001b[0m\u001b[0m\n\u001b[0m",
      "\u001b[0;31mKeyError\u001b[0m: 'id'"
     ]
    }
   ],
   "source": [
    "fo.close()\n",
    "print (json.dumps(json.loads(r.text), indent=4))  # pretty print the results\n",
    "p_resultId = json.loads(r.text)  #  parse and get the job id\n",
    "fileId = p_resultId['id']"
   ]
  },
  {
   "cell_type": "code",
   "execution_count": null,
   "metadata": {
    "collapsed": true
   },
   "outputs": [],
   "source": [
    "payload = \"{\\n    \\\"id\\\": \" + str(fileId) + \",\\n    \\\"variableType\\\": \\\"continuous\\\",\\n    \\\"fileDelimiter\\\": \\\"tab\\\"\\n}\"\n",
    "bearheader.update({'content-type': \"application/json\"})    "
   ]
  },
  {
   "cell_type": "code",
   "execution_count": null,
   "metadata": {
    "collapsed": true
   },
   "outputs": [],
   "source": [
    "url = baseurl + '/' + str(userId) + '/dataset/summarize'\n",
    "# post a request to summarize the data file\n",
    "r = requests.post(url, data=payload, headers=bearheader)\n",
    "print (r.status_code)\n",
    "print (r.text)"
   ]
  },
  {
   "cell_type": "code",
   "execution_count": null,
   "metadata": {
    "collapsed": true
   },
   "outputs": [],
   "source": [
    "payload = \"{\\n    \\\"datasetFileId\\\": \" + str(fileId)+ \",\\n    \\\"dataValidation\\\": {\\n      \\\"uniqueVarName\\\": true,\\n      \\\"limitNumOfCategory\\\": false\\n    },\\n    \\\"algorithmParameters\\\": {\\n      \\\"maxDegree\\\": -1,\\n      \\\"penaltyDiscount\\\": 2},\\n    \\\"jvmOptions\\\": {\\n      \\\"maxHeapSize\\\": 10\\n    }\\n}\""
   ]
  },
  {
   "cell_type": "code",
   "execution_count": null,
   "metadata": {
    "collapsed": true
   },
   "outputs": [],
   "source": [
    "# use the alogrithm name as endpoint\n",
    "# url = baseurl + '/' + str(userId) + '/jobs/gfcic'  # GFCI continuous\n",
    "# url = baseurl + '/' + str(userId) + '/jobs/fgsd'  # FGS discrete\n",
    "url = baseurl + '/' + str(userId) + '/jobs/fgsc'   # FGS Continuous\n",
    "print (url)\n",
    "r = requests.post(url, data=payload, headers=bearheader)\n",
    "print (r.text)\n",
    "p = json.loads(r.text)"
   ]
  },
  {
   "cell_type": "code",
   "execution_count": null,
   "metadata": {
    "collapsed": true
   },
   "outputs": [],
   "source": [
    "#  parse and get the job id, and expected result and error name \n",
    "jobId = p['id']\n",
    "resultFilename = p['resultFileName']\n",
    "errorFilename = p['errorResultFileName']\n",
    "print (r.text)"
   ]
  },
  {
   "cell_type": "code",
   "execution_count": null,
   "metadata": {
    "collapsed": true
   },
   "outputs": [],
   "source": [
    "url = baseurl + '/' + str(userId) + '/jobs'\n",
    "r = requests.get(url + '/' + str(jobId), headers=bearheader)\n",
    "print (r.text)"
   ]
  },
  {
   "cell_type": "code",
   "execution_count": null,
   "metadata": {
    "collapsed": true
   },
   "outputs": [],
   "source": [
    "# shows a report-based summary, non-graphical view\n",
    "url = baseurl + '/' + str(userId) + '/results'\n",
    "r = requests.get(url + '/' + resultFilename, headers=bearheader)\n",
    "# if the result file is not found check the error file\n",
    "if (r.status_code == 404):\n",
    "    r = requests.get(url + '/' + errorFilename, headers=bearheader)\n",
    "print (r.text)"
   ]
  }
 ],
 "metadata": {
  "kernelspec": {
   "display_name": "Python 2",
   "language": "python",
   "name": "python2"
  },
  "language_info": {
   "codemirror_mode": {
    "name": "ipython",
    "version": 2
   },
   "file_extension": ".py",
   "mimetype": "text/x-python",
   "name": "python",
   "nbconvert_exporter": "python",
   "pygments_lexer": "ipython2",
   "version": "2.7.12"
  }
 },
 "nbformat": 4,
 "nbformat_minor": 1
}
